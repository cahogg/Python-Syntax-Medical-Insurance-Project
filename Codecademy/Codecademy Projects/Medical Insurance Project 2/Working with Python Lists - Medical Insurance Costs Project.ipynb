{
 "cells": [
  {
   "cell_type": "code",
   "execution_count": 1,
   "id": "9ac4d7c4",
   "metadata": {},
   "outputs": [],
   "source": [
    "names = [\"Mohamed\", \"Sara\", \"Xia\", \"Paul\", \"Valentina\", \"Jide\", \"Aaron\", \"Emily\", \"Nikita\", \"Paul\"]\n",
    "insurance_costs = [13262.0, 4816.0, 6839.0, 5054.0, 14724.0, 5360.0, 7640.0, 6072.0, 2750.0, 12064.0]\n"
   ]
  },
  {
   "cell_type": "code",
   "execution_count": 2,
   "id": "c4c02fed",
   "metadata": {},
   "outputs": [
    {
     "name": "stdout",
     "output_type": "stream",
     "text": [
      "[(13262.0, 'Mohamed'), (4816.0, 'Sara'), (6839.0, 'Xia'), (5054.0, 'Paul'), (14724.0, 'Valentina'), (5360.0, 'Jide'), (7640.0, 'Aaron'), (6072.0, 'Emily'), (2750.0, 'Nikita'), (12064.0, 'Paul'), (8320.0, 'Prisclla')]\n",
      "There are 11 medical records.\n",
      "Here is the first medical record: (13262.0, 'Mohamed')\n",
      "Here are the medical records sorted by insurance cost: [(2750.0, 'Nikita'), (4816.0, 'Sara'), (5054.0, 'Paul'), (5360.0, 'Jide'), (6072.0, 'Emily'), (6839.0, 'Xia'), (7640.0, 'Aaron'), (8320.0, 'Prisclla'), (12064.0, 'Paul'), (13262.0, 'Mohamed'), (14724.0, 'Valentina')]\n",
      "Here are the three cheapest insurance cost in our medical records: [(2750.0, 'Nikita'), (4816.0, 'Sara'), (5054.0, 'Paul')]\n",
      "Here are the three most expensive insurance costs in our medical records: [(12064.0, 'Paul'), (13262.0, 'Mohamed'), (14724.0, 'Valentina')]\n",
      "There are 2 individuals with the name Paul in our medical records.\n"
     ]
    }
   ],
   "source": [
    "names.append(\"Prisclla\")\n",
    "insurance_costs.append(8320.0)\n",
    "\n",
    "medical_records = list(zip(insurance_costs, names))\n",
    "\n",
    "print(medical_records)\n",
    "\n",
    "num_medical_records = len(medical_records)\n",
    "\n",
    "print(\"There are \" + str(num_medical_records) + \" medical records.\")\n",
    "\n",
    "first_medical_record = medical_records[0]\n",
    "\n",
    "print(\"Here is the first medical record: \" + str(first_medical_record))\n",
    "\n",
    "medical_records.sort()\n",
    "print(\"Here are the medical records sorted by insurance cost: \" + str(medical_records))\n",
    "\n",
    "cheapest_three = medical_records[:3]\n",
    "\n",
    "print(\"Here are the three cheapest insurance cost in our medical records: \" + str(cheapest_three))\n",
    "\n",
    "priciest_three = medical_records[-3:]\n",
    "\n",
    "print(\"Here are the three most expensive insurance costs in our medical records: \" + str(priciest_three))\n",
    "\n",
    "occurrences_paul = names.count(\"Paul\")\n",
    "\n",
    "print(\"There are \" + str(occurrences_paul) + \" individuals with the name Paul in our medical records.\")"
   ]
  },
  {
   "cell_type": "code",
   "execution_count": null,
   "id": "96845775",
   "metadata": {},
   "outputs": [],
   "source": []
  }
 ],
 "metadata": {
  "kernelspec": {
   "display_name": "Python 3 (ipykernel)",
   "language": "python",
   "name": "python3"
  },
  "language_info": {
   "codemirror_mode": {
    "name": "ipython",
    "version": 3
   },
   "file_extension": ".py",
   "mimetype": "text/x-python",
   "name": "python",
   "nbconvert_exporter": "python",
   "pygments_lexer": "ipython3",
   "version": "3.10.9"
  }
 },
 "nbformat": 4,
 "nbformat_minor": 5
}
