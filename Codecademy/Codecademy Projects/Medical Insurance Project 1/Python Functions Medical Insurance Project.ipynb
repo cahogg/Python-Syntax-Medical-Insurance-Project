{
 "cells": [
  {
   "cell_type": "code",
   "execution_count": null,
   "id": "ec95b317",
   "metadata": {},
   "outputs": [],
   "source": [
    "# Create calculate_insurance_cost() function below: \n",
    "\n",
    "def calculate_insurance_cost(name, age, sex, bmi, num_of_children, smoker):\n",
    "  estimated_cost = 250*age - 128*sex + 370*bmi + 425*num_of_children + 24000*smoker - 12500\n",
    "  print(\"The estimated insurance cost for \" + str(name) + \" is \" + str(estimated_cost) + \" dollars.\")\n",
    "  return estimated_cost\n",
    " \n",
    "\n"
   ]
  },
  {
   "cell_type": "code",
   "execution_count": null,
   "id": "23b3ca86",
   "metadata": {},
   "outputs": [],
   "source": [
    "# Estimate Maria's insurance cost\n",
    "maria_insurance_cost = calculate_insurance_cost(name = \"Maria\", age = 28, sex = 0, bmi = 26.2, num_of_children = 3, smoker = 0) "
   ]
  },
  {
   "cell_type": "code",
   "execution_count": null,
   "id": "7229873e",
   "metadata": {},
   "outputs": [],
   "source": [
    "# Estimate Omar's insurance cost \n",
    "omar_insurance_cost = calculate_insurance_cost(name = \"Omar\", age = 35, sex = 1, bmi = 22.2, num_of_children = 0, smoker = 1)\n"
   ]
  },
  {
   "cell_type": "code",
   "execution_count": null,
   "id": "c50fbf2c",
   "metadata": {},
   "outputs": [],
   "source": [
    "# Estimate my insurance cost\n",
    "my_insurance_cost = calculate_insurance_cost(name = \"my\", age = 35, sex = 1, bmi = 30.0, num_of_children = 0, smoker = 0)"
   ]
  }
 ],
 "metadata": {
  "kernelspec": {
   "display_name": "Python 3 (ipykernel)",
   "language": "python",
   "name": "python3"
  },
  "language_info": {
   "codemirror_mode": {
    "name": "ipython",
    "version": 3
   },
   "file_extension": ".py",
   "mimetype": "text/x-python",
   "name": "python",
   "nbconvert_exporter": "python",
   "pygments_lexer": "ipython3",
   "version": "3.10.9"
  }
 },
 "nbformat": 4,
 "nbformat_minor": 5
}
