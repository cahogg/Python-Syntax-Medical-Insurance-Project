{
 "cells": [
  {
   "cell_type": "code",
   "execution_count": 1,
   "id": "f25104fb",
   "metadata": {},
   "outputs": [],
   "source": [
    "# Add your code here\n",
    "def analyze_smoker(smoker_status):\n",
    "  if smoker_status == 1:\n",
    "    print(\"To lower your cost, you should consider quitting smoking\")\n",
    "  else:\n",
    "    print(\"Smoking is not an issue for you.\")\n",
    "  "
   ]
  },
  {
   "cell_type": "code",
   "execution_count": 2,
   "id": "71e5ca13",
   "metadata": {},
   "outputs": [],
   "source": [
    "# Function to estimate insurance cost:\n",
    "def estimate_insurance_cost(name, age, sex, num_of_children, smoker):\n",
    "  estimated_cost = 400*age - 128*sex + 425*num_of_children + 10000*smoker - 2500\n",
    "  print(name + \"'s Estimated Insurance Cost: \" + str(estimated_cost) + \" dollars.\")\n",
    "  analyze_smoker(smoker)\n",
    "  return estimated_cost"
   ]
  },
  {
   "cell_type": "code",
   "execution_count": 3,
   "id": "e8365a2f",
   "metadata": {},
   "outputs": [
    {
     "name": "stdout",
     "output_type": "stream",
     "text": [
      "Keanu's Estimated Insurance Cost: 20247 dollars.\n",
      "To lower your cost, you should consider quitting smoking\n"
     ]
    }
   ],
   "source": [
    "# Estimate Keanu's insurance cost\n",
    "keanu_insurance_cost = estimate_insurance_cost(name = 'Keanu', age = 29, sex = 1, num_of_children = 3, smoker = 1)"
   ]
  },
  {
   "cell_type": "code",
   "execution_count": 4,
   "id": "70ff7c73",
   "metadata": {},
   "outputs": [
    {
     "name": "stdout",
     "output_type": "stream",
     "text": [
      "Chris's Estimated Insurance Cost: 9372 dollars.\n",
      "Smoking is not an issue for you.\n"
     ]
    }
   ],
   "source": [
    "# My insurance cost\n",
    "my_insurance_cost = estimate_insurance_cost(name = 'Chris', age = 30, sex = 1, num_of_children = 0, smoker = 0)"
   ]
  },
  {
   "cell_type": "code",
   "execution_count": null,
   "id": "867e7193",
   "metadata": {},
   "outputs": [],
   "source": []
  }
 ],
 "metadata": {
  "kernelspec": {
   "display_name": "Python 3 (ipykernel)",
   "language": "python",
   "name": "python3"
  },
  "language_info": {
   "codemirror_mode": {
    "name": "ipython",
    "version": 3
   },
   "file_extension": ".py",
   "mimetype": "text/x-python",
   "name": "python",
   "nbconvert_exporter": "python",
   "pygments_lexer": "ipython3",
   "version": "3.10.9"
  }
 },
 "nbformat": 4,
 "nbformat_minor": 5
}
