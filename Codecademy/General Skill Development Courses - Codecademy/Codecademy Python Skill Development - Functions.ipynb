{
 "cells": [
  {
   "cell_type": "code",
   "execution_count": 1,
   "id": "b65d40cf",
   "metadata": {},
   "outputs": [],
   "source": [
    "def trip_planner_welcome(name):\n",
    "  print(\"Welcome to tripplanner v1.0\", name)"
   ]
  },
  {
   "cell_type": "code",
   "execution_count": 2,
   "id": "b50c3a11",
   "metadata": {},
   "outputs": [],
   "source": [
    "def estimated_time_rounded(estimated_time):\n",
    "  rounded_time = round(estimated_time) \n",
    "  return rounded_time "
   ]
  },
  {
   "cell_type": "code",
   "execution_count": 3,
   "id": "911aaf8b",
   "metadata": {},
   "outputs": [],
   "source": [
    "def destination_setup(origin, destination, estimated_time, mode_of_transport=\"Car\"):\n",
    "  print(\"Your trip starts off in\", origin)\n",
    "  print(\"And you are traveling to\", destination)\n",
    "  print(\"You will be traveling by\", mode_of_transport)\n",
    "  print(\"It will take approximately\", str(estimated_time), \"hours\")"
   ]
  },
  {
   "cell_type": "code",
   "execution_count": 4,
   "id": "4f1cc6b7",
   "metadata": {},
   "outputs": [
    {
     "name": "stdout",
     "output_type": "stream",
     "text": [
      "Welcome to tripplanner v1.0 Chris\n",
      "Your trip starts off in Home\n",
      "And you are traveling to Big Burger Emporium of Fat\n",
      "You will be traveling by Car\n",
      "It will take approximately 6 hours\n"
     ]
    }
   ],
   "source": [
    "trip_planner_welcome(\"Chris\")\n",
    "estimate = estimated_time_rounded(5.53)\n",
    "destination_setup(\"Home\", \"Big Burger Emporium of Fat\", estimate)"
   ]
  },
  {
   "cell_type": "code",
   "execution_count": null,
   "id": "a10cf1b5",
   "metadata": {},
   "outputs": [],
   "source": []
  }
 ],
 "metadata": {
  "kernelspec": {
   "display_name": "Python 3 (ipykernel)",
   "language": "python",
   "name": "python3"
  },
  "language_info": {
   "codemirror_mode": {
    "name": "ipython",
    "version": 3
   },
   "file_extension": ".py",
   "mimetype": "text/x-python",
   "name": "python",
   "nbconvert_exporter": "python",
   "pygments_lexer": "ipython3",
   "version": "3.10.9"
  }
 },
 "nbformat": 4,
 "nbformat_minor": 5
}
