{
 "cells": [
  {
   "cell_type": "code",
   "execution_count": null,
   "id": "cb733ba2",
   "metadata": {},
   "outputs": [],
   "source": [
    "inventory = [\"twin bed\", \"twin bed\", \"headboard\", \"queen bed\", \"king bed\", \"dresser\", \"dresser\", \"table\", \"table\", \"nightstand\", \"nightstand\", \"king bed\", \"king bed\", \"twin bed\", \"twin bed\", \"sheets\", \"sheets\", \"pillow\", \"pillow\"]\n",
    "inventory_len = len(inventory)\n",
    "print(inventory_len)\n",
    "\n",
    "first = inventory[0]\n",
    "last = inventory[-1]\n",
    "inventory_2_6 = inventory[2:6]\n",
    "first_3 = inventory[:3]\n",
    "twin_beds = inventory.count('twin bed')\n",
    "removed_item = inventory.pop(4)\n",
    "inventory.insert(10, \"19th Century Bed Frame\")\n",
    "inventory.sort()\n",
    "\n",
    "print(inventory)"
   ]
  }
 ],
 "metadata": {
  "kernelspec": {
   "display_name": "Python 3 (ipykernel)",
   "language": "python",
   "name": "python3"
  },
  "language_info": {
   "codemirror_mode": {
    "name": "ipython",
    "version": 3
   },
   "file_extension": ".py",
   "mimetype": "text/x-python",
   "name": "python",
   "nbconvert_exporter": "python",
   "pygments_lexer": "ipython3",
   "version": "3.10.9"
  }
 },
 "nbformat": 4,
 "nbformat_minor": 5
}
