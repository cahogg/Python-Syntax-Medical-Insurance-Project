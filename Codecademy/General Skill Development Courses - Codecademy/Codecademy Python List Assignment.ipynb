{
 "cells": [
  {
   "cell_type": "code",
   "execution_count": null,
   "id": "c3702dbe",
   "metadata": {},
   "outputs": [],
   "source": [
    "# Your code below: \n",
    "first_names = [\"Ainsley\", \"Ben\", \"Chani\", \"Depak\"]\n",
    "preferred_size = [\"Small\", \"Large\", \"Medium\"]\n",
    "\n",
    "preferred_size.append(\"Medium\")\n",
    "\n",
    "print(preferred_size)\n",
    "\n",
    "customer_data = [[\"Ainsley\", \"Small\", True], [\"Ben\", \"Large\", False], [\"Chani\", \"Medium\", True], [\"Depak\", \"Medium\", False]]\n",
    "\n",
    "customer_data[2][2] = False\n",
    "customer_data[1].remove(False)\n",
    "customer_data_final = customer_data + [[\"Amit\", \"Large\", True], [\"Karim\", \"X-Large\", False]]\n",
    "\n",
    "print(customer_data)\n",
    "print(customer_data_final)"
   ]
  }
 ],
 "metadata": {
  "kernelspec": {
   "display_name": "Python 3 (ipykernel)",
   "language": "python",
   "name": "python3"
  },
  "language_info": {
   "codemirror_mode": {
    "name": "ipython",
    "version": 3
   },
   "file_extension": ".py",
   "mimetype": "text/x-python",
   "name": "python",
   "nbconvert_exporter": "python",
   "pygments_lexer": "ipython3",
   "version": "3.10.9"
  }
 },
 "nbformat": 4,
 "nbformat_minor": 5
}
